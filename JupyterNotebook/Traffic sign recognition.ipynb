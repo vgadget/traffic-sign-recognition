{
 "cells": [
  {
   "cell_type": "markdown",
   "id": "79b79a5b",
   "metadata": {},
   "source": [
    "# Traffic Sign Recognition"
   ]
  },
  {
   "cell_type": "markdown",
   "id": "16c8088d",
   "metadata": {},
   "source": [
    "## Dependencies"
   ]
  },
  {
   "cell_type": "code",
   "execution_count": 1,
   "id": "a8f39c5b",
   "metadata": {},
   "outputs": [
    {
     "name": "stdout",
     "output_type": "stream",
     "text": [
      "Init Plugin\n",
      "Init Graph Optimizer\n",
      "Init Kernel\n"
     ]
    }
   ],
   "source": [
    "from numpy.random import seed\n",
    "seed(86148)\n",
    "\n",
    "import sys\n",
    "sys.path.append('./lib') # For personal extra modules\n",
    "\n",
    "import os\n",
    "import cv2\n",
    "import pandas as pd\n",
    "import numpy as np\n",
    "import matplotlib.pyplot as plt\n",
    "\n",
    "import tensorflow as tf\n",
    "from tensorflow.keras import regularizers \n",
    "from tensorflow.keras.callbacks import ModelCheckpoint\n",
    "from tensorflow.keras.callbacks import LearningRateScheduler as LRS\n",
    "from tensorflow.keras.layers import Activation, Conv2D, Dense, Dropout, Flatten, MaxPooling2D\n",
    "from tensorflow.keras.layers import BatchNormalization as BN\n",
    "from tensorflow.keras import models\n",
    "from tensorflow.keras.models import Sequential\n",
    "from tensorflow.keras.optimizers import Adam, RMSprop\n",
    "from tensorflow.keras.preprocessing.image import ImageDataGenerator\n",
    "from tensorflow.keras.utils import to_categorical\n",
    "\n",
    "#EXTRAS\n",
    "from cutout import get_random_eraser # CutOut\n",
    "from mixup import MixupGenerator # Mixup\n",
    "\n",
    "#MANAGEMENT PURPOSES ONLY\n",
    "from tqdm.notebook import tqdm"
   ]
  },
  {
   "cell_type": "markdown",
   "id": "96e0ff95",
   "metadata": {},
   "source": [
    "## System checks"
   ]
  },
  {
   "cell_type": "code",
   "execution_count": 2,
   "id": "6e9f1dc7",
   "metadata": {},
   "outputs": [
    {
     "name": "stdout",
     "output_type": "stream",
     "text": [
      "[PhysicalDevice(name='/physical_device:CPU:0', device_type='CPU'), PhysicalDevice(name='/physical_device:GPU:0', device_type='GPU')]\n"
     ]
    },
    {
     "name": "stderr",
     "output_type": "stream",
     "text": [
      "2022-01-19 15:49:45.407171: I tensorflow/core/common_runtime/pluggable_device/pluggable_device_factory.cc:305] Could not identify NUMA node of platform GPU ID 0, defaulting to 0. Your kernel may not have been built with NUMA support.\n",
      "2022-01-19 15:49:45.407583: I tensorflow/core/common_runtime/pluggable_device/pluggable_device_factory.cc:271] Created TensorFlow device (/device:GPU:0 with 0 MB memory) -> physical PluggableDevice (device: 0, name: METAL, pci bus id: <undefined>)\n"
     ]
    },
    {
     "data": {
      "text/plain": [
       "'/device:GPU:0'"
      ]
     },
     "execution_count": 2,
     "metadata": {},
     "output_type": "execute_result"
    },
    {
     "name": "stdout",
     "output_type": "stream",
     "text": [
      "Metal device set to: Apple M1\n"
     ]
    }
   ],
   "source": [
    "print(tf.config.list_physical_devices())\n",
    "tf.test.gpu_device_name()"
   ]
  },
  {
   "cell_type": "code",
   "execution_count": 3,
   "id": "bbc7c28b",
   "metadata": {},
   "outputs": [
    {
     "name": "stdout",
     "output_type": "stream",
     "text": [
      "3.9.7\n"
     ]
    }
   ],
   "source": [
    "from platform import python_version\n",
    "\n",
    "print(python_version())"
   ]
  },
  {
   "cell_type": "markdown",
   "id": "f3bd437c",
   "metadata": {},
   "source": [
    "## Data management"
   ]
  },
  {
   "cell_type": "code",
   "execution_count": 4,
   "id": "29a521f5",
   "metadata": {},
   "outputs": [],
   "source": [
    "data_path = r\"./DATASET/\"\n",
    "img_size = 32"
   ]
  },
  {
   "cell_type": "code",
   "execution_count": 5,
   "id": "16cc3e80",
   "metadata": {},
   "outputs": [],
   "source": [
    "def load_data(dataset):\n",
    "    images = []\n",
    "    classes = []    \n",
    "    rows = pd.read_csv(dataset)\n",
    "    rows = rows.sample(frac=1).reset_index(drop=True)\n",
    "            \n",
    "    with tqdm(total=len(rows)+1) as pbar:\n",
    "    \n",
    "        for i, row in rows.iterrows():\n",
    "            img_class = row[\"ClassId\"]\n",
    "            img_path = row[\"Path\"]        \n",
    "            image = os.path.join(data_path, img_path)\n",
    "\n",
    "            image = cv2.imread(image)\n",
    "            image = cv2.cvtColor(image, cv2.COLOR_BGR2RGB)\n",
    "            image_rs = cv2.resize(image, (img_size, img_size), 3)        \n",
    "\n",
    "            R, G, B = cv2.split(image_rs)     \n",
    "\n",
    "            img_r = cv2.equalizeHist(R)\n",
    "            img_g = cv2.equalizeHist(G)\n",
    "            img_b = cv2.equalizeHist(B)        \n",
    "\n",
    "            new_image = cv2.merge((img_r, img_g, img_b))\n",
    "\n",
    "            pbar.update(1)\n",
    "\n",
    "            images.append(new_image)\n",
    "            classes.append(img_class)\n",
    "            \n",
    "        pbar.container.children[-2].style.bar_color = '#00FF00' # Set bar to green color at end\n",
    "    \n",
    "    X = np.array(images)\n",
    "    y = np.array(classes)\n",
    "    \n",
    "    return (X, y)"
   ]
  },
  {
   "cell_type": "markdown",
   "id": "8b8ac8d4",
   "metadata": {},
   "source": [
    "### Load data "
   ]
  },
  {
   "cell_type": "code",
   "execution_count": 6,
   "id": "f86392be",
   "metadata": {},
   "outputs": [
    {
     "data": {
      "application/vnd.jupyter.widget-view+json": {
       "model_id": "fe00e05302f34215b0a342706760545c",
       "version_major": 2,
       "version_minor": 0
      },
      "text/plain": [
       "  0%|          | 0/39210 [00:00<?, ?it/s]"
      ]
     },
     "metadata": {},
     "output_type": "display_data"
    },
    {
     "data": {
      "application/vnd.jupyter.widget-view+json": {
       "model_id": "4987de87985a46a7b4fc7bf37887e949",
       "version_major": 2,
       "version_minor": 0
      },
      "text/plain": [
       "  0%|          | 0/12631 [00:00<?, ?it/s]"
      ]
     },
     "metadata": {},
     "output_type": "display_data"
    }
   ],
   "source": [
    "train_data_path = data_path + \"Train.csv\"\n",
    "test_data_path = data_path + \"Test.csv\"\n",
    "\n",
    "\n",
    "(Xtrain, Ytrain) = load_data(train_data_path)\n",
    "(Xtest, Ytest) = load_data(test_data_path)"
   ]
  },
  {
   "cell_type": "markdown",
   "id": "e6cb8930",
   "metadata": {},
   "source": [
    "### Normalise data"
   ]
  },
  {
   "cell_type": "code",
   "execution_count": 21,
   "id": "0d62fbd3",
   "metadata": {},
   "outputs": [],
   "source": [
    "Xtrain = Xtrain.astype(\"float32\") / 255.0\n",
    "Xtest = Xtest.astype(\"float32\") / 255.0\n",
    "\n",
    "num_labels = len(np.unique(Ytrain))\n",
    "Ytrain = to_categorical(Ytrain, num_labels)\n",
    "Ytest = to_categorical(Ytest, num_labels)\n",
    "\n",
    "class_totals = Ytrain.sum(axis=0)\n",
    "class_weight = class_totals.max() / class_totals"
   ]
  },
  {
   "cell_type": "markdown",
   "id": "404a63a9",
   "metadata": {},
   "source": [
    "## Parameters"
   ]
  },
  {
   "cell_type": "markdown",
   "id": "ad2abf98",
   "metadata": {},
   "source": [
    "#### Hyper parameters"
   ]
  },
  {
   "cell_type": "code",
   "execution_count": 7,
   "id": "4627929b",
   "metadata": {},
   "outputs": [],
   "source": [
    "epochs = 115\n",
    "learning_rate = 0.001\n",
    "batch_size = 1024"
   ]
  },
  {
   "cell_type": "markdown",
   "id": "fdf2c717",
   "metadata": {},
   "source": [
    "#### Model parameters"
   ]
  },
  {
   "cell_type": "code",
   "execution_count": 9,
   "id": "9dfc8608",
   "metadata": {},
   "outputs": [],
   "source": [
    "filepath_val_acc=\"./backup/model.best.hdf5\"\n",
    "checkpoint_val_acc = ModelCheckpoint(filepath_val_acc, monitor='val_accuracy', verbose=1, save_best_only=True, mode='max')   "
   ]
  },
  {
   "cell_type": "markdown",
   "id": "1a821755",
   "metadata": {},
   "source": [
    "#### Data augmentation"
   ]
  },
  {
   "cell_type": "code",
   "execution_count": 10,
   "id": "f782a870",
   "metadata": {},
   "outputs": [],
   "source": [
    "data_augmentation = ImageDataGenerator(\n",
    "    rotation_range = 10,\n",
    "    zoom_range = 0.15,\n",
    "    width_shift_range = 0.1,\n",
    "    height_shift_range = 0.1,\n",
    "    shear_range = 0.15,\n",
    "    horizontal_flip = False,\n",
    "    vertical_flip = False,\n",
    "    preprocessing_function=get_random_eraser(v_l=0, v_h=1)\n",
    ")"
   ]
  },
  {
   "cell_type": "code",
   "execution_count": 11,
   "id": "ec7e5e35",
   "metadata": {},
   "outputs": [],
   "source": [
    "generator = MixupGenerator(Xtrain, Ytrain, alpha=0.1, datagen=data_augmentation)()"
   ]
  },
  {
   "cell_type": "markdown",
   "id": "7124c017",
   "metadata": {},
   "source": [
    "#### Optimizer"
   ]
  },
  {
   "cell_type": "code",
   "execution_count": 8,
   "id": "1d34a01a",
   "metadata": {},
   "outputs": [],
   "source": [
    "optimizer = Adam(\n",
    "    learning_rate = learning_rate, \n",
    "    decay = (learning_rate / epochs)\n",
    ")"
   ]
  },
  {
   "cell_type": "markdown",
   "id": "4964f300",
   "metadata": {},
   "source": [
    "#### Learning Rate Annealing"
   ]
  },
  {
   "cell_type": "code",
   "execution_count": 13,
   "id": "c9dae5c7",
   "metadata": {},
   "outputs": [],
   "source": [
    "def scheduler(epoch):\n",
    "    return learning_rate * (0.5 ** (epoch // 20))"
   ]
  },
  {
   "cell_type": "markdown",
   "id": "54b300bf",
   "metadata": {},
   "source": [
    "## Training Model"
   ]
  },
  {
   "cell_type": "code",
   "execution_count": 14,
   "id": "061749ec",
   "metadata": {},
   "outputs": [],
   "source": [
    "class RoadSignClassifier:\n",
    "    \n",
    "    def createCNN(width, height, depth, classes):\n",
    "        \n",
    "        input_shape = (height, width, depth)\n",
    "        \n",
    "        model = Sequential()\n",
    "\n",
    "        weight_decay = 0.0005\n",
    "\n",
    "        model.add(Conv2D(64, (3, 3), padding='same',\n",
    "                         input_shape=input_shape, kernel_regularizer=regularizers.l2(weight_decay)))\n",
    "        model.add(Activation('relu'))\n",
    "        model.add(BN())\n",
    "        model.add(Dropout(0.3))\n",
    "\n",
    "        model.add(Conv2D(64, (3, 3), padding='same',kernel_regularizer=regularizers.l2(weight_decay)))\n",
    "        model.add(Activation('relu'))\n",
    "        model.add(BN())\n",
    "\n",
    "        model.add(MaxPooling2D(pool_size=(2, 2)))\n",
    "\n",
    "        model.add(Conv2D(128, (3, 3), padding='same',kernel_regularizer=regularizers.l2(weight_decay)))\n",
    "        model.add(Activation('relu'))\n",
    "        model.add(BN())\n",
    "        model.add(Dropout(0.4))\n",
    "\n",
    "        model.add(Conv2D(128, (3, 3), padding='same',kernel_regularizer=regularizers.l2(weight_decay)))\n",
    "        model.add(Activation('relu'))\n",
    "        model.add(BN())\n",
    "\n",
    "        model.add(MaxPooling2D(pool_size=(2, 2)))\n",
    "\n",
    "        model.add(Conv2D(256, (3, 3), padding='same',kernel_regularizer=regularizers.l2(weight_decay)))\n",
    "        model.add(Activation('relu'))\n",
    "        model.add(BN())\n",
    "        model.add(Dropout(0.4))\n",
    "\n",
    "        model.add(Conv2D(256, (3, 3), padding='same',kernel_regularizer=regularizers.l2(weight_decay)))\n",
    "        model.add(Activation('relu'))\n",
    "        model.add(BN())\n",
    "        model.add(Dropout(0.4))\n",
    "\n",
    "        model.add(Conv2D(256, (3, 3), padding='same',kernel_regularizer=regularizers.l2(weight_decay)))\n",
    "        model.add(Activation('relu'))\n",
    "        model.add(BN())\n",
    "\n",
    "        model.add(MaxPooling2D(pool_size=(2, 2)))\n",
    "\n",
    "\n",
    "        model.add(Conv2D(512, (3, 3), padding='same',kernel_regularizer=regularizers.l2(weight_decay)))\n",
    "        model.add(Activation('relu'))\n",
    "        model.add(BN())\n",
    "        model.add(Dropout(0.4))\n",
    "\n",
    "        model.add(Conv2D(512, (3, 3), padding='same',kernel_regularizer=regularizers.l2(weight_decay)))\n",
    "        model.add(Activation('relu'))\n",
    "        model.add(BN())\n",
    "        model.add(Dropout(0.4))\n",
    "\n",
    "        model.add(Conv2D(512, (3, 3), padding='same',kernel_regularizer=regularizers.l2(weight_decay)))\n",
    "        model.add(Activation('relu'))\n",
    "        model.add(BN())\n",
    "\n",
    "        model.add(MaxPooling2D(pool_size=(2, 2)))\n",
    "\n",
    "\n",
    "        model.add(Conv2D(512, (3, 3), padding='same',kernel_regularizer=regularizers.l2(weight_decay)))\n",
    "        model.add(Activation('relu'))\n",
    "        model.add(BN())\n",
    "        model.add(Dropout(0.4))\n",
    "\n",
    "        model.add(Conv2D(512, (3, 3), padding='same',kernel_regularizer=regularizers.l2(weight_decay)))\n",
    "        model.add(Activation('relu'))\n",
    "        model.add(BN())\n",
    "        model.add(Dropout(0.4))\n",
    "\n",
    "        model.add(Conv2D(512, (3, 3), padding='same',kernel_regularizer=regularizers.l2(weight_decay)))\n",
    "        model.add(Activation('relu'))\n",
    "        model.add(BN())\n",
    "\n",
    "        model.add(MaxPooling2D(pool_size=(2, 2)))\n",
    "        model.add(Dropout(0.5))\n",
    "\n",
    "        model.add(Flatten())\n",
    "        model.add(Dense(512,kernel_regularizer=regularizers.l2(weight_decay)))\n",
    "        model.add(Activation('relu'))\n",
    "        model.add(BN())\n",
    "\n",
    "        model.add(Dropout(0.5))\n",
    "        model.add(Dense(num_labels))\n",
    "        model.add(Activation('softmax'))\n",
    "\n",
    "        return model"
   ]
  },
  {
   "cell_type": "code",
   "execution_count": 15,
   "id": "783c36b7",
   "metadata": {},
   "outputs": [
    {
     "name": "stderr",
     "output_type": "stream",
     "text": [
      "2022-01-03 13:39:41.430973: I tensorflow/core/common_runtime/pluggable_device/pluggable_device_factory.cc:305] Could not identify NUMA node of platform GPU ID 0, defaulting to 0. Your kernel may not have been built with NUMA support.\n",
      "2022-01-03 13:39:41.430995: I tensorflow/core/common_runtime/pluggable_device/pluggable_device_factory.cc:271] Created TensorFlow device (/job:localhost/replica:0/task:0/device:GPU:0 with 0 MB memory) -> physical PluggableDevice (device: 0, name: METAL, pci bus id: <undefined>)\n"
     ]
    }
   ],
   "source": [
    "model = RoadSignClassifier.createCNN(\n",
    "    width = img_size, \n",
    "    height = img_size, \n",
    "    depth = 3, \n",
    "    classes = len(class_totals)\n",
    ")"
   ]
  },
  {
   "cell_type": "code",
   "execution_count": 16,
   "id": "196a890d",
   "metadata": {},
   "outputs": [
    {
     "name": "stdout",
     "output_type": "stream",
     "text": [
      "Model: \"sequential\"\n",
      "_________________________________________________________________\n",
      "Layer (type)                 Output Shape              Param #   \n",
      "=================================================================\n",
      "conv2d (Conv2D)              (None, 32, 32, 64)        1792      \n",
      "_________________________________________________________________\n",
      "activation (Activation)      (None, 32, 32, 64)        0         \n",
      "_________________________________________________________________\n",
      "batch_normalization (BatchNo (None, 32, 32, 64)        256       \n",
      "_________________________________________________________________\n",
      "dropout (Dropout)            (None, 32, 32, 64)        0         \n",
      "_________________________________________________________________\n",
      "conv2d_1 (Conv2D)            (None, 32, 32, 64)        36928     \n",
      "_________________________________________________________________\n",
      "activation_1 (Activation)    (None, 32, 32, 64)        0         \n",
      "_________________________________________________________________\n",
      "batch_normalization_1 (Batch (None, 32, 32, 64)        256       \n",
      "_________________________________________________________________\n",
      "max_pooling2d (MaxPooling2D) (None, 16, 16, 64)        0         \n",
      "_________________________________________________________________\n",
      "conv2d_2 (Conv2D)            (None, 16, 16, 128)       73856     \n",
      "_________________________________________________________________\n",
      "activation_2 (Activation)    (None, 16, 16, 128)       0         \n",
      "_________________________________________________________________\n",
      "batch_normalization_2 (Batch (None, 16, 16, 128)       512       \n",
      "_________________________________________________________________\n",
      "dropout_1 (Dropout)          (None, 16, 16, 128)       0         \n",
      "_________________________________________________________________\n",
      "conv2d_3 (Conv2D)            (None, 16, 16, 128)       147584    \n",
      "_________________________________________________________________\n",
      "activation_3 (Activation)    (None, 16, 16, 128)       0         \n",
      "_________________________________________________________________\n",
      "batch_normalization_3 (Batch (None, 16, 16, 128)       512       \n",
      "_________________________________________________________________\n",
      "max_pooling2d_1 (MaxPooling2 (None, 8, 8, 128)         0         \n",
      "_________________________________________________________________\n",
      "conv2d_4 (Conv2D)            (None, 8, 8, 256)         295168    \n",
      "_________________________________________________________________\n",
      "activation_4 (Activation)    (None, 8, 8, 256)         0         \n",
      "_________________________________________________________________\n",
      "batch_normalization_4 (Batch (None, 8, 8, 256)         1024      \n",
      "_________________________________________________________________\n",
      "dropout_2 (Dropout)          (None, 8, 8, 256)         0         \n",
      "_________________________________________________________________\n",
      "conv2d_5 (Conv2D)            (None, 8, 8, 256)         590080    \n",
      "_________________________________________________________________\n",
      "activation_5 (Activation)    (None, 8, 8, 256)         0         \n",
      "_________________________________________________________________\n",
      "batch_normalization_5 (Batch (None, 8, 8, 256)         1024      \n",
      "_________________________________________________________________\n",
      "dropout_3 (Dropout)          (None, 8, 8, 256)         0         \n",
      "_________________________________________________________________\n",
      "conv2d_6 (Conv2D)            (None, 8, 8, 256)         590080    \n",
      "_________________________________________________________________\n",
      "activation_6 (Activation)    (None, 8, 8, 256)         0         \n",
      "_________________________________________________________________\n",
      "batch_normalization_6 (Batch (None, 8, 8, 256)         1024      \n",
      "_________________________________________________________________\n",
      "max_pooling2d_2 (MaxPooling2 (None, 4, 4, 256)         0         \n",
      "_________________________________________________________________\n",
      "conv2d_7 (Conv2D)            (None, 4, 4, 512)         1180160   \n",
      "_________________________________________________________________\n",
      "activation_7 (Activation)    (None, 4, 4, 512)         0         \n",
      "_________________________________________________________________\n",
      "batch_normalization_7 (Batch (None, 4, 4, 512)         2048      \n",
      "_________________________________________________________________\n",
      "dropout_4 (Dropout)          (None, 4, 4, 512)         0         \n",
      "_________________________________________________________________\n",
      "conv2d_8 (Conv2D)            (None, 4, 4, 512)         2359808   \n",
      "_________________________________________________________________\n",
      "activation_8 (Activation)    (None, 4, 4, 512)         0         \n",
      "_________________________________________________________________\n",
      "batch_normalization_8 (Batch (None, 4, 4, 512)         2048      \n",
      "_________________________________________________________________\n",
      "dropout_5 (Dropout)          (None, 4, 4, 512)         0         \n",
      "_________________________________________________________________\n",
      "conv2d_9 (Conv2D)            (None, 4, 4, 512)         2359808   \n",
      "_________________________________________________________________\n",
      "activation_9 (Activation)    (None, 4, 4, 512)         0         \n",
      "_________________________________________________________________\n",
      "batch_normalization_9 (Batch (None, 4, 4, 512)         2048      \n",
      "_________________________________________________________________\n",
      "max_pooling2d_3 (MaxPooling2 (None, 2, 2, 512)         0         \n",
      "_________________________________________________________________\n",
      "conv2d_10 (Conv2D)           (None, 2, 2, 512)         2359808   \n",
      "_________________________________________________________________\n",
      "activation_10 (Activation)   (None, 2, 2, 512)         0         \n",
      "_________________________________________________________________\n",
      "batch_normalization_10 (Batc (None, 2, 2, 512)         2048      \n",
      "_________________________________________________________________\n",
      "dropout_6 (Dropout)          (None, 2, 2, 512)         0         \n",
      "_________________________________________________________________\n",
      "conv2d_11 (Conv2D)           (None, 2, 2, 512)         2359808   \n",
      "_________________________________________________________________\n",
      "activation_11 (Activation)   (None, 2, 2, 512)         0         \n",
      "_________________________________________________________________\n",
      "batch_normalization_11 (Batc (None, 2, 2, 512)         2048      \n",
      "_________________________________________________________________\n",
      "dropout_7 (Dropout)          (None, 2, 2, 512)         0         \n",
      "_________________________________________________________________\n",
      "conv2d_12 (Conv2D)           (None, 2, 2, 512)         2359808   \n",
      "_________________________________________________________________\n",
      "activation_12 (Activation)   (None, 2, 2, 512)         0         \n",
      "_________________________________________________________________\n",
      "batch_normalization_12 (Batc (None, 2, 2, 512)         2048      \n",
      "_________________________________________________________________\n",
      "max_pooling2d_4 (MaxPooling2 (None, 1, 1, 512)         0         \n",
      "_________________________________________________________________\n",
      "dropout_8 (Dropout)          (None, 1, 1, 512)         0         \n",
      "_________________________________________________________________\n",
      "flatten (Flatten)            (None, 512)               0         \n",
      "_________________________________________________________________\n",
      "dense (Dense)                (None, 512)               262656    \n",
      "_________________________________________________________________\n",
      "activation_13 (Activation)   (None, 512)               0         \n",
      "_________________________________________________________________\n",
      "batch_normalization_13 (Batc (None, 512)               2048      \n",
      "_________________________________________________________________\n",
      "dropout_9 (Dropout)          (None, 512)               0         \n",
      "_________________________________________________________________\n",
      "dense_1 (Dense)              (None, 43)                22059     \n",
      "_________________________________________________________________\n",
      "activation_14 (Activation)   (None, 43)                0         \n",
      "=================================================================\n",
      "Total params: 15,018,347\n",
      "Trainable params: 15,008,875\n",
      "Non-trainable params: 9,472\n",
      "_________________________________________________________________\n"
     ]
    }
   ],
   "source": [
    "model.compile(\n",
    "    optimizer = optimizer, \n",
    "    loss = \"categorical_crossentropy\", \n",
    "    metrics = [\"accuracy\"]\n",
    ")\n",
    "\n",
    "model.summary()"
   ]
  },
  {
   "cell_type": "code",
   "execution_count": 17,
   "id": "f5056719",
   "metadata": {
    "scrolled": true
   },
   "outputs": [
    {
     "name": "stdout",
     "output_type": "stream",
     "text": [
      "WARNING:tensorflow:From /opt/homebrew/Caskroom/miniforge/base/envs/tensorflow/lib/python3.9/site-packages/tensorflow/python/ops/array_ops.py:5043: calling gather (from tensorflow.python.ops.array_ops) with validate_indices is deprecated and will be removed in a future version.\n",
      "Instructions for updating:\n",
      "The `validate_indices` argument has no effect. Indices are always validated on CPU and never validated on GPU.\n",
      "Epoch 1/50\n"
     ]
    },
    {
     "name": "stderr",
     "output_type": "stream",
     "text": [
      "2022-01-03 13:39:41.713910: I tensorflow/compiler/mlir/mlir_graph_optimization_pass.cc:176] None of the MLIR Optimization Passes are enabled (registered 2)\n",
      "2022-01-03 13:39:41.715333: W tensorflow/core/platform/profile_utils/cpu_utils.cc:128] Failed to get CPU frequency: 0 Hz\n",
      "2022-01-03 13:39:42.247799: I tensorflow/core/grappler/optimizers/custom_graph_optimizer_registry.cc:112] Plugin optimizer for device_type GPU is enabled.\n"
     ]
    },
    {
     "name": "stdout",
     "output_type": "stream",
     "text": [
      "1024/1024 [==============================] - ETA: 0s - loss: 11.7763 - accuracy: 0.0553"
     ]
    },
    {
     "name": "stderr",
     "output_type": "stream",
     "text": [
      "2022-01-03 13:41:15.713584: I tensorflow/core/grappler/optimizers/custom_graph_optimizer_registry.cc:112] Plugin optimizer for device_type GPU is enabled.\n"
     ]
    },
    {
     "name": "stdout",
     "output_type": "stream",
     "text": [
      "1024/1024 [==============================] - 102s 98ms/step - loss: 11.7763 - accuracy: 0.0553 - val_loss: 5.4480 - val_accuracy: 0.0671\n",
      "\n",
      "Epoch 00001: val_accuracy improved from -inf to 0.06706, saving model to ./backup/model.best.hdf5\n",
      "Epoch 2/50\n",
      "1024/1024 [==============================] - 101s 99ms/step - loss: 9.4114 - accuracy: 0.1040 - val_loss: 4.3937 - val_accuracy: 0.1502\n",
      "\n",
      "Epoch 00002: val_accuracy improved from 0.06706 to 0.15020, saving model to ./backup/model.best.hdf5\n",
      "Epoch 3/50\n",
      "1024/1024 [==============================] - 100s 97ms/step - loss: 8.3221 - accuracy: 0.1556 - val_loss: 3.7981 - val_accuracy: 0.1907\n",
      "\n",
      "Epoch 00003: val_accuracy improved from 0.15020 to 0.19066, saving model to ./backup/model.best.hdf5\n",
      "Epoch 4/50\n",
      "1024/1024 [==============================] - 100s 98ms/step - loss: 7.7005 - accuracy: 0.2010 - val_loss: 3.2772 - val_accuracy: 0.3203\n",
      "\n",
      "Epoch 00004: val_accuracy improved from 0.19066 to 0.32027, saving model to ./backup/model.best.hdf5\n",
      "Epoch 5/50\n",
      "1024/1024 [==============================] - 100s 98ms/step - loss: 7.1207 - accuracy: 0.2546 - val_loss: 2.9904 - val_accuracy: 0.3914\n",
      "\n",
      "Epoch 00005: val_accuracy improved from 0.32027 to 0.39137, saving model to ./backup/model.best.hdf5\n",
      "Epoch 6/50\n",
      "1024/1024 [==============================] - 100s 98ms/step - loss: 6.9692 - accuracy: 0.2958 - val_loss: 3.1556 - val_accuracy: 0.3671\n",
      "\n",
      "Epoch 00006: val_accuracy did not improve from 0.39137\n",
      "Epoch 7/50\n",
      "1024/1024 [==============================] - 101s 98ms/step - loss: 6.7846 - accuracy: 0.3543 - val_loss: 3.2591 - val_accuracy: 0.4703\n",
      "\n",
      "Epoch 00007: val_accuracy improved from 0.39137 to 0.47031, saving model to ./backup/model.best.hdf5\n",
      "Epoch 8/50\n",
      "1024/1024 [==============================] - 105s 102ms/step - loss: 6.6317 - accuracy: 0.4132 - val_loss: 3.5986 - val_accuracy: 0.4572\n",
      "\n",
      "Epoch 00008: val_accuracy did not improve from 0.47031\n",
      "Epoch 9/50\n",
      "1024/1024 [==============================] - 104s 101ms/step - loss: 6.4686 - accuracy: 0.4641 - val_loss: 3.2058 - val_accuracy: 0.5873\n",
      "\n",
      "Epoch 00009: val_accuracy improved from 0.47031 to 0.58725, saving model to ./backup/model.best.hdf5\n",
      "Epoch 10/50\n",
      "1024/1024 [==============================] - 101s 99ms/step - loss: 6.1701 - accuracy: 0.5244 - val_loss: 3.0387 - val_accuracy: 0.6967\n",
      "\n",
      "Epoch 00010: val_accuracy improved from 0.58725 to 0.69667, saving model to ./backup/model.best.hdf5\n",
      "Epoch 11/50\n",
      "1024/1024 [==============================] - 101s 98ms/step - loss: 5.9475 - accuracy: 0.5912 - val_loss: 3.1162 - val_accuracy: 0.7473\n",
      "\n",
      "Epoch 00011: val_accuracy improved from 0.69667 to 0.74735, saving model to ./backup/model.best.hdf5\n",
      "Epoch 12/50\n",
      "1024/1024 [==============================] - 101s 98ms/step - loss: 5.7160 - accuracy: 0.6357 - val_loss: 3.1126 - val_accuracy: 0.8067\n",
      "\n",
      "Epoch 00012: val_accuracy improved from 0.74735 to 0.80673, saving model to ./backup/model.best.hdf5\n",
      "Epoch 13/50\n",
      "1024/1024 [==============================] - 101s 98ms/step - loss: 5.5644 - accuracy: 0.6644 - val_loss: 2.9649 - val_accuracy: 0.8665\n",
      "\n",
      "Epoch 00013: val_accuracy improved from 0.80673 to 0.86651, saving model to ./backup/model.best.hdf5\n",
      "Epoch 14/50\n",
      "1024/1024 [==============================] - 100s 98ms/step - loss: 5.3428 - accuracy: 0.6891 - val_loss: 2.9002 - val_accuracy: 0.8420\n",
      "\n",
      "Epoch 00014: val_accuracy did not improve from 0.86651\n",
      "Epoch 15/50\n",
      "1024/1024 [==============================] - 100s 98ms/step - loss: 5.1433 - accuracy: 0.7153 - val_loss: 2.7444 - val_accuracy: 0.9082\n",
      "\n",
      "Epoch 00015: val_accuracy improved from 0.86651 to 0.90816, saving model to ./backup/model.best.hdf5\n",
      "Epoch 16/50\n",
      "1024/1024 [==============================] - 100s 98ms/step - loss: 4.9722 - accuracy: 0.7406 - val_loss: 2.6090 - val_accuracy: 0.9124\n",
      "\n",
      "Epoch 00016: val_accuracy improved from 0.90816 to 0.91235, saving model to ./backup/model.best.hdf5\n",
      "Epoch 17/50\n",
      "1024/1024 [==============================] - 100s 98ms/step - loss: 4.9361 - accuracy: 0.7517 - val_loss: 2.7396 - val_accuracy: 0.9155\n",
      "\n",
      "Epoch 00017: val_accuracy improved from 0.91235 to 0.91552, saving model to ./backup/model.best.hdf5\n",
      "Epoch 18/50\n",
      "1024/1024 [==============================] - 100s 98ms/step - loss: 4.7325 - accuracy: 0.7733 - val_loss: 2.7727 - val_accuracy: 0.9354\n",
      "\n",
      "Epoch 00018: val_accuracy improved from 0.91552 to 0.93539, saving model to ./backup/model.best.hdf5\n",
      "Epoch 19/50\n",
      "1024/1024 [==============================] - 100s 98ms/step - loss: 4.6357 - accuracy: 0.7868 - val_loss: 2.5899 - val_accuracy: 0.9457\n",
      "\n",
      "Epoch 00019: val_accuracy improved from 0.93539 to 0.94568, saving model to ./backup/model.best.hdf5\n",
      "Epoch 20/50\n",
      "1024/1024 [==============================] - 100s 98ms/step - loss: 4.5148 - accuracy: 0.7922 - val_loss: 2.5355 - val_accuracy: 0.9553\n",
      "\n",
      "Epoch 00020: val_accuracy improved from 0.94568 to 0.95527, saving model to ./backup/model.best.hdf5\n",
      "Epoch 21/50\n",
      "1024/1024 [==============================] - 101s 98ms/step - loss: 4.0793 - accuracy: 0.8327 - val_loss: 2.2913 - val_accuracy: 0.9682\n",
      "\n",
      "Epoch 00021: val_accuracy improved from 0.95527 to 0.96817, saving model to ./backup/model.best.hdf5\n",
      "Epoch 22/50\n",
      "1024/1024 [==============================] - 101s 99ms/step - loss: 3.7754 - accuracy: 0.8437 - val_loss: 2.0794 - val_accuracy: 0.9793\n",
      "\n",
      "Epoch 00022: val_accuracy improved from 0.96817 to 0.97926, saving model to ./backup/model.best.hdf5\n",
      "Epoch 23/50\n",
      "1024/1024 [==============================] - 101s 98ms/step - loss: 3.6104 - accuracy: 0.8483 - val_loss: 1.8900 - val_accuracy: 0.9842\n",
      "\n",
      "Epoch 00023: val_accuracy improved from 0.97926 to 0.98416, saving model to ./backup/model.best.hdf5\n",
      "Epoch 24/50\n",
      "1024/1024 [==============================] - 101s 98ms/step - loss: 3.4788 - accuracy: 0.8513 - val_loss: 1.8550 - val_accuracy: 0.9761\n",
      "\n",
      "Epoch 00024: val_accuracy did not improve from 0.98416\n",
      "Epoch 25/50\n",
      "1024/1024 [==============================] - 101s 99ms/step - loss: 3.3442 - accuracy: 0.8567 - val_loss: 1.7164 - val_accuracy: 0.9841\n",
      "\n",
      "Epoch 00025: val_accuracy did not improve from 0.98416\n",
      "Epoch 26/50\n",
      "1024/1024 [==============================] - 101s 99ms/step - loss: 3.3027 - accuracy: 0.8557 - val_loss: 1.7164 - val_accuracy: 0.9793\n",
      "\n",
      "Epoch 00026: val_accuracy did not improve from 0.98416\n",
      "Epoch 27/50\n",
      "1024/1024 [==============================] - 101s 98ms/step - loss: 3.2287 - accuracy: 0.8570 - val_loss: 1.6755 - val_accuracy: 0.9835\n",
      "\n",
      "Epoch 00027: val_accuracy did not improve from 0.98416\n",
      "Epoch 28/50\n",
      "1024/1024 [==============================] - 100s 98ms/step - loss: 3.2001 - accuracy: 0.8574 - val_loss: 1.6250 - val_accuracy: 0.9782\n",
      "\n",
      "Epoch 00028: val_accuracy did not improve from 0.98416\n",
      "Epoch 29/50\n",
      "1024/1024 [==============================] - 100s 98ms/step - loss: 3.1852 - accuracy: 0.8596 - val_loss: 1.5840 - val_accuracy: 0.9802\n",
      "\n",
      "Epoch 00029: val_accuracy did not improve from 0.98416\n",
      "Epoch 30/50\n",
      "1024/1024 [==============================] - 100s 98ms/step - loss: 3.0573 - accuracy: 0.8648 - val_loss: 1.5535 - val_accuracy: 0.9837\n",
      "\n",
      "Epoch 00030: val_accuracy did not improve from 0.98416\n",
      "Epoch 31/50\n",
      "1024/1024 [==============================] - 100s 98ms/step - loss: 3.0282 - accuracy: 0.8658 - val_loss: 1.5207 - val_accuracy: 0.9819\n",
      "\n",
      "Epoch 00031: val_accuracy did not improve from 0.98416\n",
      "Epoch 32/50\n",
      "1024/1024 [==============================] - 101s 98ms/step - loss: 3.0649 - accuracy: 0.8643 - val_loss: 1.4689 - val_accuracy: 0.9850\n",
      "\n",
      "Epoch 00032: val_accuracy improved from 0.98416 to 0.98496, saving model to ./backup/model.best.hdf5\n",
      "Epoch 33/50\n",
      "1024/1024 [==============================] - 100s 98ms/step - loss: 2.9786 - accuracy: 0.8675 - val_loss: 1.5068 - val_accuracy: 0.9861\n",
      "\n",
      "Epoch 00033: val_accuracy improved from 0.98496 to 0.98606, saving model to ./backup/model.best.hdf5\n",
      "Epoch 34/50\n",
      "1024/1024 [==============================] - 101s 98ms/step - loss: 2.9387 - accuracy: 0.8705 - val_loss: 1.4558 - val_accuracy: 0.9827\n",
      "\n",
      "Epoch 00034: val_accuracy did not improve from 0.98606\n",
      "Epoch 35/50\n",
      "1024/1024 [==============================] - 100s 98ms/step - loss: 2.9131 - accuracy: 0.8730 - val_loss: 1.4139 - val_accuracy: 0.9850\n",
      "\n",
      "Epoch 00035: val_accuracy did not improve from 0.98606\n",
      "Epoch 36/50\n",
      "1024/1024 [==============================] - 99s 97ms/step - loss: 2.9151 - accuracy: 0.8705 - val_loss: 1.4049 - val_accuracy: 0.9850\n",
      "\n",
      "Epoch 00036: val_accuracy did not improve from 0.98606\n",
      "Epoch 37/50\n",
      "1024/1024 [==============================] - 99s 97ms/step - loss: 2.9040 - accuracy: 0.8719 - val_loss: 1.4394 - val_accuracy: 0.9857\n",
      "\n",
      "Epoch 00037: val_accuracy did not improve from 0.98606\n",
      "Epoch 38/50\n",
      "1024/1024 [==============================] - 99s 97ms/step - loss: 2.8261 - accuracy: 0.8750 - val_loss: 1.3891 - val_accuracy: 0.9858\n",
      "\n",
      "Epoch 00038: val_accuracy did not improve from 0.98606\n",
      "Epoch 39/50\n",
      "1024/1024 [==============================] - 99s 97ms/step - loss: 2.8043 - accuracy: 0.8751 - val_loss: 1.3581 - val_accuracy: 0.9846\n",
      "\n",
      "Epoch 00039: val_accuracy did not improve from 0.98606\n",
      "Epoch 40/50\n",
      "1024/1024 [==============================] - 99s 97ms/step - loss: 2.7705 - accuracy: 0.8760 - val_loss: 1.3643 - val_accuracy: 0.9863\n",
      "\n",
      "Epoch 00040: val_accuracy improved from 0.98606 to 0.98630, saving model to ./backup/model.best.hdf5\n",
      "Epoch 41/50\n",
      "1024/1024 [==============================] - 99s 97ms/step - loss: 2.6782 - accuracy: 0.8835 - val_loss: 1.2314 - val_accuracy: 0.9870\n",
      "\n",
      "Epoch 00041: val_accuracy improved from 0.98630 to 0.98702, saving model to ./backup/model.best.hdf5\n",
      "Epoch 42/50\n",
      "1024/1024 [==============================] - 99s 97ms/step - loss: 2.6011 - accuracy: 0.8915 - val_loss: 1.2081 - val_accuracy: 0.9866\n",
      "\n",
      "Epoch 00042: val_accuracy did not improve from 0.98702\n",
      "Epoch 43/50\n",
      "1024/1024 [==============================] - 99s 97ms/step - loss: 2.5399 - accuracy: 0.8894 - val_loss: 1.2012 - val_accuracy: 0.9887\n",
      "\n",
      "Epoch 00043: val_accuracy improved from 0.98702 to 0.98868, saving model to ./backup/model.best.hdf5\n",
      "Epoch 44/50\n",
      "1024/1024 [==============================] - 99s 97ms/step - loss: 2.5232 - accuracy: 0.8916 - val_loss: 1.1996 - val_accuracy: 0.9862\n",
      "\n",
      "Epoch 00044: val_accuracy did not improve from 0.98868\n",
      "Epoch 45/50\n",
      "1024/1024 [==============================] - 99s 97ms/step - loss: 2.4556 - accuracy: 0.8915 - val_loss: 1.2289 - val_accuracy: 0.9895\n",
      "\n",
      "Epoch 00045: val_accuracy improved from 0.98868 to 0.98947, saving model to ./backup/model.best.hdf5\n",
      "Epoch 46/50\n",
      "1024/1024 [==============================] - 99s 97ms/step - loss: 2.3771 - accuracy: 0.8987 - val_loss: 1.1275 - val_accuracy: 0.9922\n",
      "\n",
      "Epoch 00046: val_accuracy improved from 0.98947 to 0.99224, saving model to ./backup/model.best.hdf5\n",
      "Epoch 47/50\n",
      "1024/1024 [==============================] - 99s 97ms/step - loss: 2.3947 - accuracy: 0.8948 - val_loss: 1.1003 - val_accuracy: 0.9897\n",
      "\n",
      "Epoch 00047: val_accuracy did not improve from 0.99224\n",
      "Epoch 48/50\n",
      "1024/1024 [==============================] - 99s 97ms/step - loss: 2.3486 - accuracy: 0.8994 - val_loss: 1.0769 - val_accuracy: 0.9894\n",
      "\n",
      "Epoch 00048: val_accuracy did not improve from 0.99224\n",
      "Epoch 49/50\n",
      "1024/1024 [==============================] - 99s 97ms/step - loss: 2.3417 - accuracy: 0.8976 - val_loss: 1.0908 - val_accuracy: 0.9882\n",
      "\n",
      "Epoch 00049: val_accuracy did not improve from 0.99224\n",
      "Epoch 50/50\n",
      "1024/1024 [==============================] - 99s 97ms/step - loss: 2.3268 - accuracy: 0.8985 - val_loss: 1.0208 - val_accuracy: 0.9895\n",
      "\n",
      "Epoch 00050: val_accuracy did not improve from 0.99224\n"
     ]
    }
   ],
   "source": [
    "fit = model.fit(\n",
    "    \n",
    "        generator,\n",
    "    \n",
    "        steps_per_epoch = batch_size,\n",
    "    \n",
    "        epochs = epochs,\n",
    "\n",
    "        validation_data = (Xtest, Ytest),\n",
    "\n",
    "        class_weight = dict(enumerate(class_weight.flatten(), 0)),\n",
    "    \n",
    "        callbacks=[LRS(scheduler), checkpoint_val_acc],\n",
    "\n",
    "        verbose=1\n",
    ")"
   ]
  },
  {
   "cell_type": "markdown",
   "id": "13a45024",
   "metadata": {},
   "source": [
    "## Metrics"
   ]
  },
  {
   "cell_type": "code",
   "execution_count": 18,
   "id": "31d41f61",
   "metadata": {},
   "outputs": [
    {
     "name": "stdout",
     "output_type": "stream",
     "text": [
      "Test loss:  1.0207940340042114\n",
      "Test accuracy:  0.9894695281982422\n",
      "Test error: 1.053%\n"
     ]
    }
   ],
   "source": [
    "score = model.evaluate(Xtest, Ytest, verbose=0)\n",
    "\n",
    "print(\"Test loss: \", score[0])\n",
    "print(\"Test accuracy: \", score[1])\n",
    "print(f\"Test error: {((1-score[1]) * 100):.3f}%\")"
   ]
  },
  {
   "cell_type": "code",
   "execution_count": 19,
   "id": "c1b0d093",
   "metadata": {},
   "outputs": [
    {
     "data": {
      "image/png": "[encoded data removed]",
      "text/plain": [
       "<Figure size 432x288 with 1 Axes>"
      ]
     },
     "metadata": {
      "needs_background": "light"
     },
     "output_type": "display_data"
    }
   ],
   "source": [
    "plt.plot(fit.history['accuracy'])\n",
    "plt.plot(fit.history['val_accuracy'])\n",
    "plt.title('model accuracy')\n",
    "plt.ylabel('accuracy')\n",
    "plt.xlabel('epoch')\n",
    "plt.legend(['train', 'test'], loc='upper left')\n",
    "plt.show()"
   ]
  },
  {
   "cell_type": "markdown",
   "id": "5d544371",
   "metadata": {},
   "source": [
    "## Save model"
   ]
  },
  {
   "cell_type": "code",
   "execution_count": 11,
   "id": "832753ad",
   "metadata": {},
   "outputs": [],
   "source": [
    "model_name = \"TSR_Model_98acc50Epoch_MACM1\""
   ]
  },
  {
   "cell_type": "code",
   "execution_count": 21,
   "id": "575a9369",
   "metadata": {},
   "outputs": [
    {
     "name": "stderr",
     "output_type": "stream",
     "text": [
      "2022-01-03 15:03:31.001660: W tensorflow/python/util/util.cc:348] Sets are not currently considered sequences, but this may change in the future, so consider avoiding using them.\n"
     ]
    },
    {
     "name": "stdout",
     "output_type": "stream",
     "text": [
      "INFO:tensorflow:Assets written to: ./MODELS/TSR_Model_96perEpoch35_MACM1/assets\n"
     ]
    }
   ],
   "source": [
    "model.save(f'./MODELS/{model_name}')"
   ]
  },
  {
   "cell_type": "code",
   "execution_count": 12,
   "id": "ea44eeb8",
   "metadata": {},
   "outputs": [
    {
     "name": "stderr",
     "output_type": "stream",
     "text": [
      "2022-01-19 15:51:15.325048: I tensorflow/core/common_runtime/pluggable_device/pluggable_device_factory.cc:305] Could not identify NUMA node of platform GPU ID 0, defaulting to 0. Your kernel may not have been built with NUMA support.\n",
      "2022-01-19 15:51:15.325115: I tensorflow/core/common_runtime/pluggable_device/pluggable_device_factory.cc:271] Created TensorFlow device (/job:localhost/replica:0/task:0/device:GPU:0 with 0 MB memory) -> physical PluggableDevice (device: 0, name: METAL, pci bus id: <undefined>)\n"
     ]
    }
   ],
   "source": [
    "model = models.load_model(f'./MODELS/{model_name}')\n",
    "model.compile(\n",
    "    optimizer = optimizer, \n",
    "    loss = \"categorical_crossentropy\", \n",
    "    metrics = [\"accuracy\"]\n",
    ")"
   ]
  },
  {
   "cell_type": "markdown",
   "id": "5f450087",
   "metadata": {},
   "source": [
    "## Prediction"
   ]
  },
  {
   "cell_type": "code",
   "execution_count": 22,
   "id": "22f023e0",
   "metadata": {},
   "outputs": [
    {
     "name": "stdout",
     "output_type": "stream",
     "text": [
      "{2: 0, 31: 1, 5: 2, 11: 3, 4: 4, 13: 5, 18: 7, 10: 8, 25: 11, 24: 13, 8: 16, 16: 17, 9: 18, 35: 20, 38: 21, 12: 22, 19: 25, 37: 28, 1: 29, 7: 31, 34: 35, 14: 38, 39: 39, 33: 41, 3: 42, 6: 43, 36: 46, 17: 58, 15: 69, 29: 74, 22: 103, 28: 112, 27: 123, 20: 131, 23: 155, 0: 169, 41: 191, 30: 195, 26: 215, 32: 286, 21: 335, 42: 399, 40: 544}\n"
     ]
    }
   ],
   "source": [
    "signDict = {}\n",
    "\n",
    "for i in range(len(Ytrain)):\n",
    "    \n",
    "    classs = np.argmax(Ytrain[i])\n",
    "    \n",
    "    if classs not in signDict.keys():\n",
    "        signDict[classs] = i\n",
    "\n",
    "print(signDict)"
   ]
  },
  {
   "cell_type": "code",
   "execution_count": 40,
   "id": "36c9ec7d",
   "metadata": {},
   "outputs": [],
   "source": [
    "imagePredictionSRC = os.path.join(data_path, \"val/3.jpg\")"
   ]
  },
  {
   "cell_type": "markdown",
   "id": "4c50c736",
   "metadata": {},
   "source": [
    "### Load image "
   ]
  },
  {
   "cell_type": "code",
   "execution_count": 41,
   "id": "42df8ae3",
   "metadata": {},
   "outputs": [],
   "source": [
    "image = cv2.imread(imagePredictionSRC)\n",
    "image = cv2.cvtColor(image, cv2.COLOR_BGR2RGB)"
   ]
  },
  {
   "cell_type": "code",
   "execution_count": 42,
   "id": "27c62287",
   "metadata": {},
   "outputs": [],
   "source": [
    "image_rs = cv2.resize(image, (img_size, img_size), 3)        \n",
    "\n",
    "R, G, B = cv2.split(image_rs)     \n",
    "\n",
    "img_r = cv2.equalizeHist(R)\n",
    "img_g = cv2.equalizeHist(G)\n",
    "img_b = cv2.equalizeHist(B)        \n",
    "\n",
    "image = cv2.merge((img_r, img_g, img_b))"
   ]
  },
  {
   "cell_type": "code",
   "execution_count": 43,
   "id": "037d718f",
   "metadata": {},
   "outputs": [
    {
     "data": {
      "text/plain": [
       "<matplotlib.image.AxesImage at 0x2899ed100>"
      ]
     },
     "execution_count": 43,
     "metadata": {},
     "output_type": "execute_result"
    },
    {
     "data": {
      "image/png": "[encoded data removed]",
      "text/plain": [
       "<Figure size 432x288 with 1 Axes>"
      ]
     },
     "metadata": {
      "needs_background": "light"
     },
     "output_type": "display_data"
    }
   ],
   "source": [
    "plt.imshow(image)"
   ]
  },
  {
   "cell_type": "markdown",
   "id": "2c9ecf36",
   "metadata": {},
   "source": [
    "### Predict image"
   ]
  },
  {
   "cell_type": "code",
   "execution_count": 44,
   "id": "25d79e20",
   "metadata": {},
   "outputs": [],
   "source": [
    "input_arr = tf.keras.preprocessing.image.img_to_array(image)\n",
    "input_arr = np.array([input_arr])  # Convert single image to a batch.\n",
    "input_arr = input_arr.astype('float32') / 255. "
   ]
  },
  {
   "cell_type": "code",
   "execution_count": 45,
   "id": "63313eef",
   "metadata": {},
   "outputs": [],
   "source": [
    "predictions = model.predict(input_arr)\n",
    "predicted_class = np.argmax(predictions, axis=-1)[0]"
   ]
  },
  {
   "cell_type": "code",
   "execution_count": 46,
   "id": "8148e9aa",
   "metadata": {},
   "outputs": [
    {
     "data": {
      "text/plain": [
       "<matplotlib.image.AxesImage at 0x28032bb50>"
      ]
     },
     "execution_count": 46,
     "metadata": {},
     "output_type": "execute_result"
    },
    {
     "data": {
      "image/png": "[encoded data removed]",
      "text/plain": [
       "<Figure size 432x288 with 1 Axes>"
      ]
     },
     "metadata": {
      "needs_background": "light"
     },
     "output_type": "display_data"
    }
   ],
   "source": [
    "plt.imshow(Xtrain[signDict[predicted_class]])"
   ]
  },
  {
   "cell_type": "code",
   "execution_count": null,
   "id": "369aa6c4",
   "metadata": {},
   "outputs": [],
   "source": []
  }
 ],
 "metadata": {
  "kernelspec": {
   "display_name": "Python 3 (ipykernel)",
   "language": "python",
   "name": "python3"
  },
  "language_info": {
   "codemirror_mode": {
    "name": "ipython",
    "version": 3
   },
   "file_extension": ".py",
   "mimetype": "text/x-python",
   "name": "python",
   "nbconvert_exporter": "python",
   "pygments_lexer": "ipython3",
   "version": "3.9.7"
  }
 },
 "nbformat": 4,
 "nbformat_minor": 5
}
